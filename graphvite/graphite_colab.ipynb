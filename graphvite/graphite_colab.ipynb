{
  "nbformat": 4,
  "nbformat_minor": 0,
  "metadata": {
    "colab": {
      "name": "graphite_colab.ipynb",
      "provenance": [],
      "collapsed_sections": []
    },
    "kernelspec": {
      "name": "python3",
      "display_name": "Python 3"
    },
    "language_info": {
      "name": "python"
    },
    "accelerator": "GPU"
  },
  "cells": [
    {
      "cell_type": "code",
      "metadata": {
        "id": "1Otyv3sL7tJF"
      },
      "source": [
        "!wget -c https://repo.anaconda.com/miniconda/Miniconda3-latest-Linux-x86_64.sh\n",
        "!chmod +x Miniconda3-latest-Linux-x86_64.sh\n",
        "!./Miniconda3-latest-Linux-x86_64.sh -b -p /usr/local -f"
      ],
      "execution_count": null,
      "outputs": []
    },
    {
      "cell_type": "code",
      "metadata": {
        "id": "6Skc_TL6bfQ6"
      },
      "source": [
        "! conda install -c milagraph -c conda-forge graphvite python=3.7 cudatoolkit=10.1 -y "
      ],
      "execution_count": null,
      "outputs": []
    },
    {
      "cell_type": "code",
      "metadata": {
        "id": "ukVEjlOxgKdk"
      },
      "source": [
        "!conda install -y wurlitzer ipykernel"
      ],
      "execution_count": null,
      "outputs": []
    },
    {
      "cell_type": "code",
      "metadata": {
        "id": "5HE0bph9gT0M"
      },
      "source": [
        "import site\n",
        "site.addsitedir(\"/usr/local/lib/python3.7/site-packages\")\n",
        "%reload_ext wurlitzer\n",
        "\n",
        "import torch\n",
        "from graphvite.application.network import LinkPredictor"
      ],
      "execution_count": null,
      "outputs": []
    },
    {
      "cell_type": "code",
      "metadata": {
        "id": "VzqkNG-ijbwp"
      },
      "source": [
        "def get_score(model, H, T):\n",
        "    '''\n",
        "    Get the un-normalized score (similarity) for `H` and `T` \n",
        "    within the given `model`\n",
        "    '''\n",
        "    model = LinkPredictor('LINE', model.solver.vertex_embeddings, model.solver.context_embeddings)\n",
        "    model = model\n",
        "    tensorH = torch.as_tensor(H)\n",
        "    tensorT = torch.as_tensor(T)\n",
        "    return model(tensorH, tensorT)"
      ],
      "execution_count": null,
      "outputs": []
    },
    {
      "cell_type": "code",
      "metadata": {
        "colab": {
          "base_uri": "https://localhost:8080/"
        },
        "id": "YJlEjV22eS2t",
        "outputId": "bc5512bf-a1e4-4a67-ee7e-1d0f875dc51a"
      },
      "source": [
        "cd drive/MyDrive/COMP90051/"
      ],
      "execution_count": null,
      "outputs": [
        {
          "output_type": "stream",
          "text": [
            "/content/drive/MyDrive/COMP90051\n"
          ],
          "name": "stdout"
        }
      ]
    },
    {
      "cell_type": "code",
      "metadata": {
        "colab": {
          "base_uri": "https://localhost:8080/"
        },
        "id": "ADP_9xCLefxG",
        "outputId": "0d3feff8-27a7-456c-d1d3-60372e8cc20e"
      },
      "source": [
        "! graphvite run my_config.yml"
      ],
      "execution_count": null,
      "outputs": [
        {
          "output_type": "stream",
          "text": [
            "loading graph from data/full.txt\n",
            "0.0021379%\n",
            "<<<<<<<<<<<<<<<<<<<<<<<<<<<<<<<<<<<<<<<<<<<<\n",
            "Graph<uint32>\n",
            "------------------ Graph -------------------\n",
            "#vertex: 3767, #edge: 29620\n",
            "as undirected: yes, normalization: no\n",
            ">>>>>>>>>>>>>>>>>>>>>>>>>>>>>>>>>>>>>>>>>>>>\n",
            "[time] GraphApplication.load: 0.00977302 s\n",
            "[time] GraphApplication.build: 0.312915 s\n",
            "<<<<<<<<<<<<<<<<<<<<<<<<<<<<<<<<<<<<<<<<<<<<\n",
            "GraphSolver<128, float32, uint32>\n",
            "----------------- Resource -----------------\n",
            "#worker: 1, #sampler: 1, #partition: 1\n",
            "tied weights: no, episode size: 200\n",
            "gpu memory limit: 14.8 GiB\n",
            "gpu memory cost: 45 MiB\n",
            "----------------- Sampling -----------------\n",
            "augmentation step: 5, shuffle base: 5\n",
            "random walk length: 60\n",
            "random walk batch size: 100\n",
            "#negative: 1, negative sample exponent: 0.75\n",
            "----------------- Training -----------------\n",
            "model: LINE\n",
            "optimizer: SGD\n",
            "learning rate: 0.025, lr schedule: linear\n",
            "weight decay: 0.005\n",
            "#epoch: 2000, batch size: 100000\n",
            "resume: no\n",
            "positive reuse: 1, negative weight: 5\n",
            ">>>>>>>>>>>>>>>>>>>>>>>>>>>>>>>>>>>>>>>>>>>>\n",
            "Batch id: 0 / 592\n",
            "loss = 0\n",
            "[time] GraphApplication.train: 1.53473 s\n",
            "save model to `embedding/dim32-len40/line_full.pkl`\n",
            "[time] GraphApplication.save_model: 0.0250354 s\n"
          ],
          "name": "stdout"
        }
      ]
    },
    {
      "cell_type": "code",
      "metadata": {
        "id": "XcT681xZj2CA"
      },
      "source": [
        "import pickle\n",
        "\n",
        "dim = 32\n",
        "length = 40\n",
        "method = 'line'\n",
        "directed = False\n",
        "emb = f'embedding/dim{dim}-len{length}/{\"directed_\" if directed else \"\"}{method}_full.pkl'\n",
        "\n",
        "model = pickle.load(open(emb, 'rb'))"
      ],
      "execution_count": null,
      "outputs": []
    },
    {
      "cell_type": "code",
      "metadata": {
        "id": "uZD8AoRcj-A3"
      },
      "source": [
        "H, T = [], []\n",
        "mapping = model.graph.name2id\n",
        "with open('data/test-public.csv', 'r') as f:\n",
        "    next(f)\n",
        "    for line in f:\n",
        "        _, h, t = line.split(',')\n",
        "        h = str(int(h))\n",
        "        t = str(int(t))\n",
        "        if h in mapping:\n",
        "            H.append(mapping[h])\n",
        "        else:\n",
        "            H.append(999)\n",
        "        if t in mapping:\n",
        "            T.append(mapping[t])\n",
        "        else:\n",
        "            T.append(999)\n"
      ],
      "execution_count": null,
      "outputs": []
    },
    {
      "cell_type": "code",
      "metadata": {
        "id": "tNhS2JZklDt7"
      },
      "source": [
        "score = get_score(model, H, T)\n",
        "# normalize the scores to probabilities\n",
        "smin = score.min(0, keepdim=True)[0]\n",
        "smax = score.max(0, keepdim=True)[0]\n",
        "score -= smin\n",
        "score /= (smax - smin)"
      ],
      "execution_count": null,
      "outputs": []
    },
    {
      "cell_type": "code",
      "metadata": {
        "colab": {
          "base_uri": "https://localhost:8080/"
        },
        "id": "K2HTet-Zl-gt",
        "outputId": "c627db7f-129d-4aa1-fdfb-e189efbf7ed2"
      },
      "source": [
        "print(score)"
      ],
      "execution_count": null,
      "outputs": [
        {
          "output_type": "stream",
          "text": [
            "tensor([0.5411, 0.1135, 0.2669,  ..., 0.3603, 0.7027, 0.2649])\n"
          ],
          "name": "stdout"
        }
      ]
    },
    {
      "cell_type": "code",
      "metadata": {
        "colab": {
          "base_uri": "https://localhost:8080/"
        },
        "id": "0uN8TcNrldXV",
        "outputId": "4ad96277-037e-4444-843c-642161323c1c"
      },
      "source": [
        "# save the output\n",
        "out = f'output/dim{dim}-len{length}_{\"\" if directed else \"un\"}directed_{method}.csv'\n",
        "out = 'random_walk1.csv'\n",
        "with open(out, 'w') as o:\n",
        "    o.write('Id,Predicted\\n')\n",
        "    for i, s in enumerate(score.tolist()):\n",
        "        o.write(f'{i+1},{s}\\n')\n",
        "print('Write output to', out)"
      ],
      "execution_count": null,
      "outputs": [
        {
          "output_type": "stream",
          "text": [
            "Write output to random_walk1.csv\n"
          ],
          "name": "stdout"
        }
      ]
    }
  ]
}