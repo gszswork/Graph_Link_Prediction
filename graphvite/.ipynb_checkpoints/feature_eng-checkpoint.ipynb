{
 "cells": [
  {
   "cell_type": "markdown",
   "metadata": {
    "id": "rOcEJLpBsI16"
   },
   "source": [
    "### Feature Engineering\n",
    "##### It's a simple step, extract all edges in the train.txt document. Then save all edges line by line in edges.txt\n"
   ]
  },
  {
   "cell_type": "code",
   "execution_count": 8,
   "metadata": {
    "id": "ilaAal9brafl"
   },
   "outputs": [],
   "source": [
    "import tqdm\n",
    "\n",
    "with open('data/train.txt', 'r') as f, open('data/edges.txt', 'w') as o:\n",
    "    for line in f:\n",
    "        l = line.split()\n",
    "        # transform {A, B, C} -> [{A, B}, {A, C}, {B,C}]\n",
    "        for i in range(len(l)):\n",
    "            for j in range(i+1, len(l)):\n",
    "                o.write(f'{l[i]} {l[j]}\\n')\n"
   ]
  },
  {
   "cell_type": "code",
   "execution_count": 11,
   "metadata": {
    "colab": {
     "base_uri": "https://localhost:8080/"
    },
    "id": "2xsSrKUfrafq",
    "outputId": "52879af4-50bc-4641-d309-e3f4626c7118"
   },
   "outputs": [
    {
     "name": "stdout",
     "output_type": "stream",
     "text": [
      "29620 data/edges.txt\n"
     ]
    }
   ],
   "source": [
    "# Check the size of results. \n",
    "\n",
    "!wc -l data/edges.txt"
   ]
  },
  {
   "cell_type": "markdown",
   "metadata": {
    "id": "fEzlCx4zs7cU"
   },
   "source": [
    "### NOTES On Colab\n",
    "#### When you run your code on colab you need to load the goole's virtual drive. Run the following blocks to load drive and 'cd' to the current path."
   ]
  },
  {
   "cell_type": "code",
   "execution_count": 2,
   "metadata": {
    "colab": {
     "base_uri": "https://localhost:8080/"
    },
    "id": "95DpLR0_rpE1",
    "outputId": "80d540bf-a4d5-4837-91da-af1b7a6f867f"
   },
   "outputs": [
    {
     "name": "stdout",
     "output_type": "stream",
     "text": [
      "Mounted at /content/drive\n"
     ]
    }
   ],
   "source": [
    "from google.colab import drive\n",
    "drive.mount('/content/drive')"
   ]
  },
  {
   "cell_type": "code",
   "execution_count": 4,
   "metadata": {
    "colab": {
     "base_uri": "https://localhost:8080/"
    },
    "id": "aQwOsC6crafr",
    "outputId": "c64fe3fd-387f-4359-c3e6-0871ae4188af"
   },
   "outputs": [
    {
     "name": "stdout",
     "output_type": "stream",
     "text": [
      "/content/drive/MyDrive/COMP90051\n"
     ]
    }
   ],
   "source": [
    "cd drive/MyDrive/Graph_Link_Prediction/graphvite/"
   ]
  }
 ],
 "metadata": {
  "colab": {
   "collapsed_sections": [],
   "name": "feature_eng.ipynb",
   "provenance": []
  },
  "kernelspec": {
   "display_name": "Python 3",
   "language": "python",
   "name": "python3"
  },
  "language_info": {
   "codemirror_mode": {
    "name": "ipython",
    "version": 3
   },
   "file_extension": ".py",
   "mimetype": "text/x-python",
   "name": "python",
   "nbconvert_exporter": "python",
   "pygments_lexer": "ipython3",
   "version": "3.8.3"
  }
 },
 "nbformat": 4,
 "nbformat_minor": 1
}
